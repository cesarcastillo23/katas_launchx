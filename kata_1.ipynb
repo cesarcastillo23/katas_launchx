{
 "cells": [
  {
   "cell_type": "code",
   "execution_count": 79,
   "metadata": {},
   "outputs": [
    {
     "name": "stdout",
     "output_type": "stream",
     "text": [
      "hola taquito\n"
     ]
    }
   ],
   "source": [
    "msg1=\"hola mundo\"\n",
    "msg2=\"hola taquito\"\n",
    "print (msg2)\n"
   ]
  },
  {
   "cell_type": "markdown",
   "metadata": {},
   "source": []
  },
  {
   "cell_type": "code",
   "execution_count": 72,
   "metadata": {},
   "outputs": [],
   "source": [
    "leche = 1.5 \n",
    "huevo = 5\n",
    "mantequilla = 0.045\n",
    "crdvainilla = 0.015\n",
    "harina = 3"
   ]
  },
  {
   "cell_type": "code",
   "execution_count": 43,
   "metadata": {},
   "outputs": [
    {
     "name": "stdout",
     "output_type": "stream",
     "text": [
      "4.545\n",
      "cantidad de leche\n"
     ]
    }
   ],
   "source": [
    "print(leche+huevo+mantequilla)\n",
    "print (\"cantidad de leche\")"
   ]
  },
  {
   "cell_type": "code",
   "execution_count": 44,
   "metadata": {},
   "outputs": [
    {
     "name": "stdout",
     "output_type": "stream",
     "text": [
      "la cantidad de leche es de  1.5\n"
     ]
    }
   ],
   "source": [
    "print ('la cantidad de leche es de ', str(leche)  )"
   ]
  },
  {
   "cell_type": "markdown",
   "metadata": {},
   "source": []
  },
  {
   "cell_type": "code",
   "execution_count": 81,
   "metadata": {},
   "outputs": [
    {
     "name": "stdout",
     "output_type": "stream",
     "text": [
      "la cantidad de leche es de 1.5 la cantidad de huevos es de 5\n"
     ]
    }
   ],
   "source": [
    "print ('la cantidad de leche es de '+ str(leche) +' la cantidad de huevos es de '+ str(huevo))\n"
   ]
  },
  {
   "cell_type": "code",
   "execution_count": 66,
   "metadata": {},
   "outputs": [
    {
     "name": "stdout",
     "output_type": "stream",
     "text": [
      "7.56\n"
     ]
    }
   ],
   "source": [
    "mezcla= mantequilla + harina + leche + huevo + crdvainilla\n",
    "print (mezcla)"
   ]
  },
  {
   "cell_type": "code",
   "execution_count": 73,
   "metadata": {},
   "outputs": [
    {
     "name": "stdout",
     "output_type": "stream",
     "text": [
      "mucho huevo\n"
     ]
    }
   ],
   "source": [
    "if (huevo >= 4 ):\n",
    "    print (\"mucho huevo\")\n",
    "elif (mantequilla ==0.045):\n",
    "    print('vamos bien')"
   ]
  },
  {
   "cell_type": "code",
   "execution_count": 75,
   "metadata": {},
   "outputs": [
    {
     "name": "stdout",
     "output_type": "stream",
     "text": [
      "la porcion de esta mezcla alcanza para 2.52 personas\n"
     ]
    }
   ],
   "source": [
    "porcion = mezcla /3\n",
    "print (\"la porcion de esta mezcla alcanza para \"+ str(porcion) +\" personas\")"
   ]
  },
  {
   "cell_type": "code",
   "execution_count": null,
   "metadata": {},
   "outputs": [],
   "source": []
  }
 ],
 "metadata": {
  "interpreter": {
   "hash": "ccb70a4e16946c90f512ebee54a6e36350e84d13782bf3869fd7797bcf32e1a1"
  },
  "kernelspec": {
   "display_name": "Python 3.10.2 64-bit",
   "language": "python",
   "name": "python3"
  },
  "language_info": {
   "codemirror_mode": {
    "name": "ipython",
    "version": 3
   },
   "file_extension": ".py",
   "mimetype": "text/x-python",
   "name": "python",
   "nbconvert_exporter": "python",
   "pygments_lexer": "ipython3",
   "version": "3.10.2"
  },
  "orig_nbformat": 4
 },
 "nbformat": 4,
 "nbformat_minor": 2
}
