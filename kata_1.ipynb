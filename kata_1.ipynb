{
 "cells": [
  {
   "cell_type": "code",
   "execution_count": null,
   "metadata": {},
   "outputs": [
    {
     "name": "stdout",
     "output_type": "stream",
     "text": [
      "6\n"
     ]
    }
   ],
   "source": [
    "sum= 1 + 2 #3\n",
    "product = sum * 2\n",
    "print (product)"
   ]
  },
  {
   "cell_type": "code",
   "execution_count": null,
   "metadata": {},
   "outputs": [
    {
     "ename": "SyntaxError",
     "evalue": "invalid syntax (1095832579.py, line 1)",
     "output_type": "error",
     "traceback": [
      "\u001b[1;36m  Input \u001b[1;32mIn [42]\u001b[1;36m\u001b[0m\n\u001b[1;33m    python3 program.py\u001b[0m\n\u001b[1;37m            ^\u001b[0m\n\u001b[1;31mSyntaxError\u001b[0m\u001b[1;31m:\u001b[0m invalid syntax\n"
     ]
    }
   ],
   "source": [
    "python3 program.py"
   ]
  },
  {
   "cell_type": "code",
   "execution_count": null,
   "metadata": {},
   "outputs": [
    {
     "name": "stdout",
     "output_type": "stream",
     "text": [
      "59\n"
     ]
    }
   ],
   "source": [
    "x = \"5\"\n",
    "y = \"9\"\n",
    "z= x+y\n",
    "f=False\n",
    "H=\"cesar\"\n",
    "\n",
    "print (z)"
   ]
  },
  {
   "cell_type": "code",
   "execution_count": null,
   "metadata": {},
   "outputs": [
    {
     "name": "stdout",
     "output_type": "stream",
     "text": [
      "2902413083280\n"
     ]
    }
   ],
   "source": [
    "print(id(z))"
   ]
  },
  {
   "cell_type": "code",
   "execution_count": null,
   "metadata": {},
   "outputs": [
    {
     "name": "stdout",
     "output_type": "stream",
     "text": [
      "<class 'int'>\n"
     ]
    }
   ],
   "source": [
    "print(type(x))"
   ]
  },
  {
   "cell_type": "code",
   "execution_count": null,
   "metadata": {},
   "outputs": [
    {
     "name": "stdout",
     "output_type": "stream",
     "text": [
      "<class 'bool'>\n"
     ]
    }
   ],
   "source": [
    "print(type(f))"
   ]
  },
  {
   "cell_type": "code",
   "execution_count": null,
   "metadata": {},
   "outputs": [
    {
     "name": "stdout",
     "output_type": "stream",
     "text": [
      "<class 'str'>\n"
     ]
    }
   ],
   "source": [
    "print(type(H))"
   ]
  },
  {
   "cell_type": "code",
   "execution_count": null,
   "metadata": {},
   "outputs": [
    {
     "name": "stdout",
     "output_type": "stream",
     "text": [
      "cesar es genial\n"
     ]
    }
   ],
   "source": [
    "print (H,\"es genial\")"
   ]
  },
  {
   "cell_type": "code",
   "execution_count": null,
   "metadata": {},
   "outputs": [
    {
     "name": "stdout",
     "output_type": "stream",
     "text": [
      "el numero del usuario usuario es : 8\n",
      "grupo asignado sera el : 8\n"
     ]
    }
   ],
   "source": [
    "mensaje= input(\"ESCRIBE el ultimo numemero de cedula \")\n",
    "print (\"el numero del usuario usuario es :\",mensaje)\n",
    "print(\"grupo asignado sera el :\",mensaje)"
   ]
  },
  {
   "cell_type": "code",
   "execution_count": null,
   "metadata": {},
   "outputs": [
    {
     "ename": "ValueError",
     "evalue": "invalid literal for int() with base 10: 'hola'",
     "output_type": "error",
     "traceback": [
      "\u001b[1;31m---------------------------------------------------------------------------\u001b[0m",
      "\u001b[1;31mValueError\u001b[0m                                Traceback (most recent call last)",
      "\u001b[1;32mc:\\Users\\cersa\\Desktop\\katas\\kata_1.ipynb Cell 10'\u001b[0m in \u001b[0;36m<module>\u001b[1;34m\u001b[0m\n\u001b[0;32m      <a href='vscode-notebook-cell:/c%3A/Users/cersa/Desktop/katas/kata_1.ipynb#ch0000009?line=0'>1</a>\u001b[0m mensaje1\u001b[39m=\u001b[39m(\u001b[39minput\u001b[39m(\u001b[39m\"\u001b[39m\u001b[39mescribe el primer numero de la cedula : \u001b[39m\u001b[39m\"\u001b[39m))\n\u001b[0;32m      <a href='vscode-notebook-cell:/c%3A/Users/cersa/Desktop/katas/kata_1.ipynb#ch0000009?line=1'>2</a>\u001b[0m mensaje2\u001b[39m=\u001b[39m(\u001b[39minput\u001b[39m(\u001b[39m\"\u001b[39m\u001b[39mescribe el ultimo numero de la cedula : \u001b[39m\u001b[39m\"\u001b[39m))\n\u001b[1;32m----> <a href='vscode-notebook-cell:/c%3A/Users/cersa/Desktop/katas/kata_1.ipynb#ch0000009?line=3'>4</a>\u001b[0m \u001b[39mif\u001b[39;00m \u001b[39mint\u001b[39;49m (mensaje1) \u001b[39mand\u001b[39;00m \u001b[39mint\u001b[39m (mensaje2): \n\u001b[0;32m      <a href='vscode-notebook-cell:/c%3A/Users/cersa/Desktop/katas/kata_1.ipynb#ch0000009?line=4'>5</a>\u001b[0m     operacion\u001b[39m=\u001b[39m((mensaje1\u001b[39m+\u001b[39mmensaje2)\u001b[39m/\u001b[39m\u001b[39m2\u001b[39m)\n\u001b[0;32m      <a href='vscode-notebook-cell:/c%3A/Users/cersa/Desktop/katas/kata_1.ipynb#ch0000009?line=5'>6</a>\u001b[0m     \u001b[39mprint\u001b[39m(\u001b[39m'\u001b[39m\u001b[39mmuy bien perro\u001b[39m\u001b[39m'\u001b[39m)\n",
      "\u001b[1;31mValueError\u001b[0m: invalid literal for int() with base 10: 'hola'"
     ]
    }
   ],
   "source": [
    "mensaje1=(input(\"escribe el primer numero de la cedula : \"))\n",
    "mensaje2=(input(\"escribe el ultimo numero de la cedula : \"))\n",
    "\n",
    "if int (mensaje1) and int (mensaje2): \n",
    "    operacion=((mensaje1+mensaje2)/2)\n",
    "    print('muy bien perro')\n",
    "else:\n",
    "    print(\"Es un numero pinche perro\")\n",
    "\n",
    "print(\"este sera el grupo asignado para usted : \",int(operacion))\n"
   ]
  },
  {
   "cell_type": "code",
   "execution_count": null,
   "metadata": {},
   "outputs": [
    {
     "name": "stdout",
     "output_type": "stream",
     "text": [
      "estuvo perron\n",
      "mi dia estuvo : 8\n"
     ]
    }
   ],
   "source": [
    "pregunta = int (input(\"como estuvo tu dia de (1 a 10): \"))\n",
    "if (int (pregunta) >7 ):\n",
    "    print ('estuvo perron')\n",
    "else:\n",
    "    print(\"TOME UNA POLA\")\n",
    "\n",
    "print(\"mi dia estuvo :\",pregunta)\n"
   ]
  },
  {
   "cell_type": "code",
   "execution_count": null,
   "metadata": {},
   "outputs": [
    {
     "name": "stdout",
     "output_type": "stream",
     "text": [
      "el libro registrado es: kely \n",
      "el autor del libro es: importa\n"
     ]
    }
   ],
   "source": [
    "titulo= (str(input(\"proporcionar el nombre del libro : \")))\n",
    "autor=(str(input(\"proporcionar el nombre del autor : \")))\n",
    "print(\"el libro registrado es:\",titulo,\"\\nel autor del libro es:\",autor)\n",
    "\n"
   ]
  },
  {
   "cell_type": "code",
   "execution_count": null,
   "metadata": {},
   "outputs": [
    {
     "name": "stdout",
     "output_type": "stream",
     "text": [
      "operacion: 59\n",
      "operacion 59\n"
     ]
    }
   ],
   "source": [
    "operacion2= x + y\n",
    "print (f\"operacion: {operacion2}\")\n",
    "print (\"operacion\",operacion2)\n"
   ]
  },
  {
   "cell_type": "code",
   "execution_count": null,
   "metadata": {},
   "outputs": [
    {
     "name": "stdout",
     "output_type": "stream",
     "text": [
      "el area de su rectacngulo es:1080 \n",
      "el perimetro de su rectacngulo es:2160\n"
     ]
    }
   ],
   "source": [
    "alto= int(input(\"proporcionar el alto\"))\n",
    "ancho= int (input(\"proporcionar el ancho\"))\n",
    "area = alto * ancho\n",
    "perimetro=(alto *ancho)*2\n",
    "print(f\"el area de su rectacngulo es:{area}\",f\"\\nel perimetro de su rectacngulo es:{perimetro}\")\n"
   ]
  },
  {
   "cell_type": "code",
   "execution_count": null,
   "metadata": {},
   "outputs": [],
   "source": [
    "miVariable=5\n",
    "miVariable +=5\n",
    "miVariable *=3\n",
    "miVariable -=7\n"
   ]
  },
  {
   "cell_type": "code",
   "execution_count": null,
   "metadata": {},
   "outputs": [
    {
     "name": "stdout",
     "output_type": "stream",
     "text": [
      "23\n"
     ]
    }
   ],
   "source": [
    "print(miVariable)"
   ]
  },
  {
   "cell_type": "code",
   "execution_count": null,
   "metadata": {},
   "outputs": [
    {
     "name": "stdout",
     "output_type": "stream",
     "text": [
      "el valor de a es PAR:200\n"
     ]
    }
   ],
   "source": [
    "l=int(input(\"ESCRIBE EL VALOR :\"))\n",
    "if l % 2 == 0:\n",
    "    print(f\"el valor de a es PAR:{l}\" )\n",
    "else:\n",
    "    print(f\"el valor NO ES PAR :{l}\" )\n"
   ]
  },
  {
   "cell_type": "code",
   "execution_count": null,
   "metadata": {},
   "outputs": [
    {
     "name": "stdout",
     "output_type": "stream",
     "text": [
      "NOOO PUEDES INGRESAR YA QUE TIENES : 10 PINCHE PUERCO\n"
     ]
    }
   ],
   "source": [
    "edadAdulto=18\n",
    "edadDeLaPersona= int(input(\"que edad tienes :\"))\n",
    "if edadDeLaPersona >= edadAdulto:\n",
    "    print(f\"PUEDES INGRESAR YA QUE TIENES : {edadDeLaPersona}\")\n",
    "else:\n",
    "    print(f\"NOOO PUEDES INGRESAR YA QUE TIENES : {edadDeLaPersona} PINCHE PUERCO\")\n",
    "\n"
   ]
  },
  {
   "cell_type": "code",
   "execution_count": null,
   "metadata": {},
   "outputs": [
    {
     "name": "stdout",
     "output_type": "stream",
     "text": [
      "el numero 6 esta FUERA del rango\n"
     ]
    }
   ],
   "source": [
    "valor=int(input(\"introduce el numero :\"))\n",
    "valor_max=5\n",
    "valorMin=0\n",
    "\n",
    "if valor <= valor_max and valor >= valorMin:\n",
    "    print(f\"el numero {valor} esta dentro del rango\")\n",
    "else:\n",
    "    print(f\"el numero {valor} esta FUERA del rango\")"
   ]
  },
  {
   "cell_type": "code",
   "execution_count": null,
   "metadata": {},
   "outputs": [
    {
     "name": "stdout",
     "output_type": "stream",
     "text": [
      "siguele chingando mijo\n"
     ]
    }
   ],
   "source": [
    "vacaciones= False\n",
    "descanso= False\n",
    "if vacaciones or descanso:\n",
    "    print(\"puede ir al partido\")\n",
    "else:\n",
    "    print(\"siguele chingando mijo\")\n"
   ]
  },
  {
   "cell_type": "code",
   "execution_count": null,
   "metadata": {},
   "outputs": [
    {
     "name": "stdout",
     "output_type": "stream",
     "text": [
      "False\n",
      "False\n",
      "No esta dentro de los 20's ni 30's\n"
     ]
    }
   ],
   "source": [
    "edad=int(input(\"introduce tu edad :\"))\n",
    "veintes = edad >= 20 and edad < 30\n",
    "print(veintes)\n",
    "\n",
    "treinta = edad >= 30 and edad < 40\n",
    "print(treinta)\n",
    "\n",
    "if veintes or treinta:\n",
    "    #print(\"dentro de rango (20\\'s) o(30\\'s)\")\n",
    "    if veintes:\n",
    "        print(\"dentro de los 20\")\n",
    "    elif treinta:\n",
    "        print(\"dento de los 30\")\n",
    "else:\n",
    "    print(\"No esta dentro de los 20's ni 30's\")"
   ]
  },
  {
   "cell_type": "code",
   "execution_count": null,
   "metadata": {},
   "outputs": [
    {
     "name": "stdout",
     "output_type": "stream",
     "text": [
      "estan iguales\n"
     ]
    }
   ],
   "source": [
    "numero1= int(input(\"primer numero\"))\n",
    "numero2= int(input(\"segundo numero\"))\n",
    "\n",
    "if numero1 > numero2:\n",
    "    print (f\"el numero mayor es:{numero1}\")\n",
    "elif numero2 >numero1:\n",
    "    print (f\"el numero mayor es:{numero2}\")\n",
    "else:\n",
    "    print(\"estan iguales\")\n"
   ]
  },
  {
   "cell_type": "code",
   "execution_count": 12,
   "metadata": {},
   "outputs": [
    {
     "name": "stdout",
     "output_type": "stream",
     "text": [
      "Proporcione los siguientes datos del libro:\n",
      "el nombre del libro es : dfjkgnjkdfhgj \n",
      " el id del libro es : 564546 \n",
      "el precio del libro es : 455456.0 \n",
      " el envio es gratis: valor incorrecto, debe escribir true/false\n",
      "\n",
      "    nombre :dfjkgnjkdfhgj\n",
      "    id :564546\n",
      "    precio : 455456.0\n",
      "    envio : valor incorrecto, debe escribir true/false\n",
      "\n"
     ]
    }
   ],
   "source": [
    "print(\"Proporcione los siguientes datos del libro:\")\n",
    "nombre_del_libro=str(input(\"proporciona el nombre del libro:\"))\n",
    "id=int(input(\"Proporciona el ID:\"))\n",
    "precio=float(input(\"proporcione el precio:\"))\n",
    "envio=(input(\"el envio es gratuito(True/False):\"))\n",
    "if envio == \"true\":\n",
    "    envio= True\n",
    "elif envio == \"false\":\n",
    "    envio= False\n",
    "else:\n",
    "    envio=\"valor incorrecto, debe escribir true/false\"\n",
    "print (f\"el nombre del libro es : {nombre_del_libro}\",f\"\\n el id del libro es : {id}\" , f\"\\nel precio del libro es : {precio}\" , f\"\\n el envio es gratis: {envio}\")\n",
    "print (f'''\n",
    "    nombre :{nombre_del_libro}\n",
    "    id :{id}\n",
    "    precio : {precio}\n",
    "    envio : {envio}\n",
    "''')\n"
   ]
  },
  {
   "cell_type": "code",
   "execution_count": 19,
   "metadata": {},
   "outputs": [
    {
     "name": "stdout",
     "output_type": "stream",
     "text": [
      "62\n"
     ]
    }
   ],
   "source": [
    "f+= 5\n",
    "d*=2\n",
    "s= f+ d\n",
    "print (s)\n"
   ]
  },
  {
   "cell_type": "code",
   "execution_count": 20,
   "metadata": {},
   "outputs": [
    {
     "name": "stdout",
     "output_type": "stream",
     "text": [
      "2022-02-21\n"
     ]
    }
   ],
   "source": [
    "from datetime import date\n",
    "date.today()\n",
    "print(date.today())"
   ]
  },
  {
   "cell_type": "code",
   "execution_count": 27,
   "metadata": {},
   "outputs": [
    {
     "name": "stdout",
     "output_type": "stream",
     "text": [
      "44\n"
     ]
    }
   ],
   "source": [
    "a = 93\n",
    "b = 27\n",
    "if a >= b:\n",
    "    print(\"a es mayor o igual que b\")\n",
    "elif a == b:\n",
    "    print(\"a es igual que b\")\n",
    "else:\n",
    "    print (\"a es menor que b\")\n",
    "    "
   ]
  },
  {
   "cell_type": "code",
   "execution_count": 30,
   "metadata": {},
   "outputs": [
    {
     "name": "stdout",
     "output_type": "stream",
     "text": [
      "a es mayor o igual que b\n"
     ]
    }
   ],
   "source": [
    "a = int(input(\"introduce el primer numero: \"))\n",
    "b = int(input(\"introduce el segundo numero: \"))\n",
    "if a >= b:\n",
    "    print(\"a es mayor o igual que b\")\n",
    "elif a == b:\n",
    "    print(\"a es igual que b\")\n",
    "else:\n",
    "    print (\"a es menor que b\")"
   ]
  },
  {
   "cell_type": "code",
   "execution_count": 34,
   "metadata": {},
   "outputs": [],
   "source": [
    "a = 23\n",
    "b = 35\n",
    "if a == 34 or b == 34:\n",
    "    print(a + b)"
   ]
  },
  {
   "cell_type": "code",
   "execution_count": 36,
   "metadata": {},
   "outputs": [
    {
     "data": {
      "text/plain": [
       "'The Moon has no atmosphere.No sound can be heard on the Moon.'"
      ]
     },
     "execution_count": 36,
     "metadata": {},
     "output_type": "execute_result"
    }
   ],
   "source": [
    "fact = 'The Moon has no atmosphere.'\n",
    "fact + 'No sound can be heard on the Moon.'"
   ]
  },
  {
   "cell_type": "code",
   "execution_count": 37,
   "metadata": {},
   "outputs": [
    {
     "data": {
      "text/plain": [
       "'The Moon has no atmosphere.No sound can be heard on the Moon.'"
      ]
     },
     "execution_count": 37,
     "metadata": {},
     "output_type": "execute_result"
    }
   ],
   "source": [
    "two_facts = fact + 'No sound can be heard on the Moon.'\n",
    "two_facts"
   ]
  },
  {
   "cell_type": "code",
   "execution_count": 38,
   "metadata": {},
   "outputs": [
    {
     "data": {
      "text/plain": [
       "'The Moon has no atmosphere.No sound can be heard on the Moon.'"
      ]
     },
     "execution_count": 38,
     "metadata": {},
     "output_type": "execute_result"
    }
   ],
   "source": [
    "two_facts"
   ]
  },
  {
   "cell_type": "code",
   "execution_count": 39,
   "metadata": {},
   "outputs": [
    {
     "data": {
      "text/plain": [
       "'Temperatures And Facts About The Moon'"
      ]
     },
     "execution_count": 39,
     "metadata": {},
     "output_type": "execute_result"
    }
   ],
   "source": [
    "heading = 'temperatures and facts about the moon'\n",
    "heading.title()"
   ]
  },
  {
   "cell_type": "code",
   "execution_count": 43,
   "metadata": {},
   "outputs": [
    {
     "data": {
      "text/plain": [
       "['Daylight: 260 F',\n",
       " '..  Nighttime: -280 F',\n",
       " '.... jhdjfasjkdfn',\n",
       " '    kdfjsdjfn',\n",
       " '  ...      jkdfgjkdfsjgn',\n",
       " '',\n",
       " '']"
      ]
     },
     "execution_count": 43,
     "metadata": {},
     "output_type": "execute_result"
    }
   ],
   "source": [
    "temperatures = '''Daylight: 260 F\n",
    "..  Nighttime: -280 F\n",
    "'''\n",
    "temperatures .split('\\n')"
   ]
  },
  {
   "cell_type": "code",
   "execution_count": 44,
   "metadata": {},
   "outputs": [
    {
     "data": {
      "text/plain": [
       "False"
      ]
     },
     "execution_count": 44,
     "metadata": {},
     "output_type": "execute_result"
    }
   ],
   "source": [
    "'Moon' in 'This text will describe facts and challenges with space travel'"
   ]
  },
  {
   "cell_type": "code",
   "execution_count": 45,
   "metadata": {},
   "outputs": [
    {
     "data": {
      "text/plain": [
       "True"
      ]
     },
     "execution_count": 45,
     "metadata": {},
     "output_type": "execute_result"
    }
   ],
   "source": [
    "'Moon' in 'This text will describe facts about the Moon'"
   ]
  },
  {
   "cell_type": "code",
   "execution_count": 46,
   "metadata": {},
   "outputs": [
    {
     "data": {
      "text/plain": [
       "['Daylight:', '260', 'F', 'Nighttime:', '-280', 'F']"
      ]
     },
     "execution_count": 46,
     "metadata": {},
     "output_type": "execute_result"
    }
   ],
   "source": [
    "temperatures = '''Daylight: 260 F\n",
    "... Nighttime: -280 F'''\n",
    "temperatures .split()"
   ]
  },
  {
   "cell_type": "code",
   "execution_count": 47,
   "metadata": {},
   "outputs": [
    {
     "data": {
      "text/plain": [
       "-1"
      ]
     },
     "execution_count": 47,
     "metadata": {},
     "output_type": "execute_result"
    }
   ],
   "source": [
    "temperatures.find('Moon')"
   ]
  },
  {
   "cell_type": "code",
   "execution_count": 48,
   "metadata": {},
   "outputs": [
    {
     "name": "stdout",
     "output_type": "stream",
     "text": [
      "-------------------------------------------------------------------------------- \n",
      "Nombre del planeta: Marte  \n",
      "Gravedad en Ganímedes: 1.4300000000000002 m/s2 \n",
      "\n",
      "-------------------------------------------------------------------------------- \n",
      "Nombre del planeta: Marte  \n",
      "Gravedad en Ganímedes: 1.4300000000000002 m/s2 \n",
      "\n",
      "\n",
      "Datos de Gravedad sobre: Ganímedes\n",
      "-------------------------------------------------------------------------------\n",
      "Nombre del planeta: Marte \n",
      "Gravedad en Ganímedes: 0.00143 m/s2\n",
      "\n",
      "\n",
      "Datos de Gravedad sobre: Ganímedes\n",
      "-------------------------------------------------------------------------------\n",
      "Nombre del planeta: Marte \n",
      "Gravedad en Ganímedes: 1.4300000000000002 m/s2\n",
      "\n"
     ]
    }
   ],
   "source": [
    "planeta = 'Marte '\n",
    "gravedad  = 0.00143\n",
    "nombre = 'Ganímedes'\n",
    "# Creamos el título\n",
    "title = f'datos de gravedad sobre {nombre}'\n",
    "# Creamos la plantilla\n",
    "hechos = f\"\"\"{'-'*80} \n",
    "Nombre del planeta: {planeta} \n",
    "Gravedad en {nombre}: {gravedad * 1000} m/s2 \n",
    "\"\"\"\n",
    "# Unión de ambas cadenas\n",
    "template = f\"\"\"{title.title()} \n",
    "{hechos} \n",
    "\"\"\" \n",
    "print(hechos)\n",
    "# Nuevos datos muestra\n",
    "planeta = 'Marte '\n",
    "gravedad  = 0.00143\n",
    "nombre = 'Ganímedes'\n",
    "# Comprobamos la plantilla\n",
    "print(hechos)\n",
    "new_template = \"\"\"\n",
    "Datos de Gravedad sobre: {nombre}\n",
    "-------------------------------------------------------------------------------\n",
    "Nombre del planeta: {planeta}\n",
    "Gravedad en {nombre}: {gravedad} m/s2\n",
    "\"\"\"\n",
    "print(new_template.format(nombre=nombre, planeta=planeta, gravedad=gravedad))\n",
    "# Pista: print(nueva_plantilla.format(variables))\n",
    "print(new_template.format(nombre=nombre, planeta=planeta, gravedad=gravedad*1000))"
   ]
  },
  {
   "cell_type": "code",
   "execution_count": 49,
   "metadata": {},
   "outputs": [
    {
     "name": "stdout",
     "output_type": "stream",
     "text": [
      "-------------------------------------------------------------------------------- \n",
      "Nombre del planeta: Marte  \n",
      "Gravedad en Ganímedes: 1.4300000000000002 m/s2 \n",
      "\n",
      "-------------------------------------------------------------------------------- \n",
      "Nombre del planeta: Marte  \n",
      "Gravedad en Ganímedes: 1.4300000000000002 m/s2 \n",
      "\n",
      "\n",
      "Datos de Gravedad sobre: Ganímedes\n",
      "-------------------------------------------------------------------------------\n",
      "Nombre del planeta: Marte \n",
      "Gravedad en Ganímedes: 0.00143 m/s2\n",
      "\n",
      "\n",
      "Datos de Gravedad sobre: Ganímedes\n",
      "-------------------------------------------------------------------------------\n",
      "Nombre del planeta: Marte \n",
      "Gravedad en Ganímedes: 1.4300000000000002 m/s2\n",
      "\n"
     ]
    }
   ],
   "source": [
    "# Datos con los que vamos a trabajar\n",
    "\n",
    "planeta = 'Marte '\n",
    "gravedad  = 0.00143\n",
    "nombre = 'Ganímedes'\n",
    "# Creamos el título\n",
    "title = f'datos de gravedad sobre {nombre}'\n",
    "# Creamos la plantilla\n",
    "hechos = f\"\"\"{'-'*80} \n",
    "Nombre del planeta: {planeta} \n",
    "Gravedad en {nombre}: {gravedad * 1000} m/s2 \n",
    "\"\"\"\n",
    "# Unión de ambas cadenas\n",
    "template = f\"\"\"{title.title()} \n",
    "{hechos} \n",
    "\"\"\" \n",
    "print(hechos)\n",
    "# Nuevos datos muestra\n",
    "planeta = 'Marte '\n",
    "gravedad  = 0.00143\n",
    "nombre = 'Ganímedes'\n",
    "# Comprobamos la plantilla\n",
    "print(hechos)\n",
    "new_template = \"\"\"\n",
    "Datos de Gravedad sobre: {nombre}\n",
    "-------------------------------------------------------------------------------\n",
    "Nombre del planeta: {planeta}\n",
    "Gravedad en {nombre}: {gravedad} m/s2\n",
    "\"\"\"\n",
    "print(new_template.format(nombre=nombre, planeta=planeta, gravedad=gravedad))\n",
    "# Pista: print(nueva_plantilla.format(variables))\n",
    "print(new_template.format(nombre=nombre, planeta=planeta, gravedad=gravedad*1000))"
   ]
  },
  {
   "cell_type": "code",
   "execution_count": null,
   "metadata": {},
   "outputs": [],
   "source": []
  }
 ],
 "metadata": {
  "interpreter": {
   "hash": "ccb70a4e16946c90f512ebee54a6e36350e84d13782bf3869fd7797bcf32e1a1"
  },
  "kernelspec": {
   "display_name": "Python 3.10.2 64-bit",
   "language": "python",
   "name": "python3"
  },
  "language_info": {
   "codemirror_mode": {
    "name": "ipython",
    "version": 3
   },
   "file_extension": ".py",
   "mimetype": "text/x-python",
   "name": "python",
   "nbconvert_exporter": "python",
   "pygments_lexer": "ipython3",
   "version": "3.10.2"
  },
  "orig_nbformat": 4
 },
 "nbformat": 4,
 "nbformat_minor": 2
}
