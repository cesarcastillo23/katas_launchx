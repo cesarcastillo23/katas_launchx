{
  "cells": [
    {
      "cell_type": "markdown",
      "metadata": {},
      "source": [
        "### Ejercicio 1"
      ]
    },
    {
      "cell_type": "code",
      "execution_count": 7,
      "metadata": {},
      "outputs": [
        {
          "name": "stdout",
          "output_type": "stream",
          "text": [
            "['jupiter', 'tierra', 'tierra', 'jupiter', 'marte', 'saturno', 'mercurio', 'mercurio']\n",
            "['jupiter', 'tierra', 'tierra', 'jupiter', 'marte', 'saturno', 'mercurio', 'mercurio', 'tierra']\n",
            "['jupiter', 'tierra', 'tierra', 'jupiter', 'marte', 'saturno', 'mercurio', 'mercurio', 'tierra', 'marte']\n",
            "['jupiter', 'tierra', 'tierra', 'jupiter', 'marte', 'saturno', 'mercurio', 'mercurio', 'tierra', 'marte', 'jupiter ']\n"
          ]
        }
      ],
      "source": [
        "\n",
        "new_planet = ''\n",
        "planets = []\n",
        "while new_planet.lower() != 'done':\n",
        "    if new_planet:\n",
        "        planets.append(new_planet)\n",
        "    new_planet = input('Enter a new planet ')\n",
        "    print(planets)\n"
      ]
    },
    {
      "cell_type": "markdown",
      "metadata": {},
      "source": [
        "### Ejercicio 2"
      ]
    },
    {
      "cell_type": "code",
      "execution_count": 6,
      "metadata": {},
      "outputs": [
        {
          "name": "stdout",
          "output_type": "stream",
          "text": [
            "jupiter\n",
            "tierra\n",
            "tierra\n",
            "jupiter\n",
            "marte\n",
            "saturno\n",
            "mercurio\n"
          ]
        }
      ],
      "source": [
        "\n",
        "\n",
        "for planet in planets:\n",
        "    print(planet)"
      ]
    },
    {
      "cell_type": "markdown",
      "metadata": {},
      "source": [
        "---\n",
        "\n",
        "Curso Propedútico de Python para Launch X - Innovacción Virtual.\n",
        "\n",
        "Material desarrollado con base en los contenidos de MSLearn y la metáfora de LaunchX, traducción e implementación por: Fernanda Ochoa - Learning Producer de LaunchX.\n",
        "\n",
        "Redes:\n",
        "* GitHub: [FernandaOchoa](https://github.com/FernandaOchoa)\n",
        "* Twitter: [@imonsh](https://twitter.com/imonsh)\n",
        "* Instagram: [fherz8a](https://www.instagram.com/fherz8a/)"
      ]
    }
  ],
  "metadata": {
    "interpreter": {
      "hash": "916dbcbb3f70747c44a77c7bcd40155683ae19c65e1c03b4aa3499c5328201f1"
    },
    "kernelspec": {
      "display_name": "Python 3.8.10 64-bit",
      "language": "python",
      "name": "python3"
    },
    "language_info": {
      "codemirror_mode": {
        "name": "ipython",
        "version": 3
      },
      "file_extension": ".py",
      "mimetype": "text/x-python",
      "name": "python",
      "nbconvert_exporter": "python",
      "pygments_lexer": "ipython3",
      "version": "3.10.2"
    },
    "nteract": {
      "version": "nteract-front-end@1.0.0"
    },
    "orig_nbformat": 4
  },
  "nbformat": 4,
  "nbformat_minor": 2
}
