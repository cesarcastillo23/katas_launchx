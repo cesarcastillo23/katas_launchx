{
  "cells": [
    {
      "cell_type": "markdown",
      "metadata": {},
      "source": [
        "### Ejercicio 1"
      ]
    },
    {
      "cell_type": "code",
      "execution_count": 4,
      "metadata": {},
      "outputs": [
        {
          "name": "stdout",
          "output_type": "stream",
          "text": [
            "628949330\n",
            "390577533.93\n"
          ]
        }
      ],
      "source": [
        "\n",
        "tierra = 149597870\n",
        "jupiter = 778547200\n",
        "\n",
        "distancia = jupiter - tierra\n",
        "print(distancia)\n",
        "\n",
        "distancia_millas = distancia * 0.621\n",
        "print(distancia_millas)"
      ]
    },
    {
      "cell_type": "markdown",
      "metadata": {},
      "source": [
        "### Ejercicio 2"
      ]
    },
    {
      "cell_type": "code",
      "execution_count": 8,
      "metadata": {},
      "outputs": [
        {
          "name": "stdout",
          "output_type": "stream",
          "text": [
            "4437200000\n",
            "2755501200.0\n"
          ]
        }
      ],
      "source": [
        "\n",
        "primer_planeta = int(input('Introduzca la distancia del sol para el primer planeta'))\n",
        "segundo_planeta = int(input('Introduzca la distancia desde el sol para el segundo planeta '))\n",
        "distancia_KM = segundo_planeta - primer_planeta\n",
        "print(distancia_KM)\n",
        "\n",
        "distancia_millas = distancia_KM * 0.621\n",
        "print(distancia_millas)"
      ]
    }
  ],
  "metadata": {
    "interpreter": {
      "hash": "502cd6c3b6c9e666d195e1caff9d64ea12bf644e547a4c8fae84812082c54b6f"
    },
    "kernel_info": {
      "name": "conda-env-py37_default-py"
    },
    "kernelspec": {
      "display_name": "py37_default",
      "language": "python",
      "name": "python3"
    },
    "language_info": {
      "codemirror_mode": {
        "name": "ipython",
        "version": 3
      },
      "file_extension": ".py",
      "mimetype": "text/x-python",
      "name": "python",
      "nbconvert_exporter": "python",
      "pygments_lexer": "ipython3",
      "version": "3.10.2"
    },
    "nteract": {
      "version": "nteract-front-end@1.0.0"
    },
    "orig_nbformat": 4
  },
  "nbformat": 4,
  "nbformat_minor": 2
}
