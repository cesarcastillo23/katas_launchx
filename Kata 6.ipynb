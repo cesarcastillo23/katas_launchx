{
  "cells": [
    {
      "cell_type": "markdown",
      "metadata": {},
      "source": [
        "### Ejercicio 1"
      ]
    },
    {
      "cell_type": "code",
      "execution_count": 4,
      "metadata": {},
      "outputs": [
        {
          "name": "stdout",
          "output_type": "stream",
          "text": [
            "hay 8 planetas\n"
          ]
        }
      ],
      "source": [
        "planetas = ['mercurio', 'venus', 'tierra', 'marte', 'jupiter', 'saturno', 'urano', 'neptuno']\n",
        "\n",
        "print('hay', len(planetas), 'planetas')"
      ]
    },
    {
      "cell_type": "code",
      "execution_count": 6,
      "metadata": {},
      "outputs": [
        {
          "name": "stdout",
          "output_type": "stream",
          "text": [
            "Pluto el ultimo planeta\n"
          ]
        }
      ],
      "source": [
        "planetas.append('Pluto')\n",
        "\n",
        "print(planetas[-1], 'el ultimo planeta')"
      ]
    },
    {
      "cell_type": "markdown",
      "metadata": {},
      "source": [
        "## Ejercicio 2"
      ]
    },
    {
      "cell_type": "code",
      "execution_count": 9,
      "metadata": {},
      "outputs": [
        {
          "name": "stdout",
          "output_type": "stream",
          "text": [
            "los mas cercanos al sol, antes de jupiter\n",
            "['mercurio', 'venus', 'tierra', 'marte']\n"
          ]
        }
      ],
      "source": [
        "planetas = ['mercurio', 'venus', 'tierra', 'marte', 'jupiter', 'saturno', 'urano', 'neptuno']\n",
        "nom_planeta = input('introduzca el nombre del planeta: ')\n",
        "indice_del_planeta= planetas.index(nom_planeta)\n",
        "print('los mas cercanos al sol, antes de ' + nom_planeta)\n",
        "print(planetas[0:indice_del_planeta])"
      ]
    },
    {
      "cell_type": "code",
      "execution_count": 10,
      "metadata": {},
      "outputs": [
        {
          "name": "stdout",
          "output_type": "stream",
          "text": [
            " los planetas mas lejanos al sol, despues de: jupiter\n",
            "['saturno', 'urano', 'neptuno']\n"
          ]
        }
      ],
      "source": [
        "# MAS LEJANOS\n",
        "print(' los planetas mas lejanos al sol, despues de: ' + nom_planeta)\n",
        "print(planetas[indice_del_planeta + 1:])"
      ]
    }
  ],
  "metadata": {
    "interpreter": {
      "hash": "b8bdd4e700647ba2b08c59e5df8b7da1dcf50a218bcd4c1bcd9b3dc92e8788e5"
    },
    "kernelspec": {
      "display_name": "Python 3.9.1 64-bit",
      "name": "python3"
    },
    "language_info": {
      "codemirror_mode": {
        "name": "ipython",
        "version": 3
      },
      "file_extension": ".py",
      "mimetype": "text/x-python",
      "name": "python",
      "nbconvert_exporter": "python",
      "pygments_lexer": "ipython3",
      "version": "3.10.2"
    },
    "nteract": {
      "version": "nteract-front-end@1.0.0"
    }
  },
  "nbformat": 4,
  "nbformat_minor": 4
}
