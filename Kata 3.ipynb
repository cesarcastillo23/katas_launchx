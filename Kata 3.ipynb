{
  "cells": [
    {
      "cell_type": "markdown",
      "metadata": {},
      "source": [
        "# 1) Primer ejercicio "
      ]
    },
    {
      "cell_type": "code",
      "execution_count": 2,
      "metadata": {},
      "outputs": [
        {
          "name": "stdout",
          "output_type": "stream",
          "text": [
            "¡¡cuidado !!, peligro de asteroide.\n"
          ]
        }
      ],
      "source": [
        "asteroide = 49\n",
        "if asteroide > 25:\n",
        "    print('¡¡cuidado !!, peligro de asteroide.')\n",
        "else:\n",
        "    print('sin peligro')"
      ]
    },
    {
      "cell_type": "markdown",
      "metadata": {},
      "source": [
        "### ¡¡cuidado !!, peligro de asteroide."
      ]
    },
    {
      "cell_type": "markdown",
      "metadata": {},
      "source": [
        "# 2) segundo ejercicio "
      ]
    },
    {
      "cell_type": "code",
      "execution_count": 5,
      "metadata": {},
      "outputs": [
        {
          "name": "stdout",
          "output_type": "stream",
          "text": [
            "sin avistamiento\n"
          ]
        }
      ],
      "source": [
        "asteroide = 19\n",
        "if asteroide > 20:\n",
        "    print('Pide un deseo')\n",
        "elif asteroide == 20:\n",
        "    print('Pide un deseo')\n",
        "else:\n",
        "    print('sin avistamiento')"
      ]
    },
    {
      "cell_type": "markdown",
      "metadata": {},
      "source": [
        "### sin avistamiento"
      ]
    },
    {
      "cell_type": "markdown",
      "metadata": {},
      "source": [
        "# 3) Tercer ejercicio"
      ]
    },
    {
      "cell_type": "code",
      "execution_count": 14,
      "metadata": {},
      "outputs": [
        {
          "name": "stdout",
          "output_type": "stream",
          "text": [
            "Asteroide no visible a simple vista\n"
          ]
        }
      ],
      "source": [
        "tamañoDelAsteroide=24\n",
        "velocidad_asteroide=10\n",
        "\n",
        "if tamañoDelAsteroide >=25 and velocidad_asteroide >=25:\n",
        "    print(\"Peligro maximo se acerca un asteroide de gran tamaño y alta velocidad\")\n",
        "elif tamañoDelAsteroide >= 25: \n",
        "    print(\"Peligro de colision de asteroide grande\")\n",
        "elif velocidad_asteroide >= 25:\n",
        "    print(\"Peligro se acerca un asteroide a gran velocidad\")\n",
        "elif velocidad_asteroide >= 20:\n",
        "    print(\"Pide un deseo\")\n",
        "elif velocidad_asteroide < 20 :\n",
        "    print(\"Asteroide no visible a simple vista\")\n",
        "else:\n",
        "    print(\"No pasa nada hoy , feliz dia.\")\n",
        "\n",
        "\n",
        "\n"
      ]
    },
    {
      "cell_type": "code",
      "execution_count": 15,
      "metadata": {},
      "outputs": [
        {
          "data": {
            "text/plain": [
              "'The Moon has no atmosphere.No sound can be heard on the Moon.'"
            ]
          },
          "execution_count": 15,
          "metadata": {},
          "output_type": "execute_result"
        }
      ],
      "source": []
    },
    {
      "cell_type": "code",
      "execution_count": null,
      "metadata": {},
      "outputs": [],
      "source": []
    }
  ],
  "metadata": {
    "interpreter": {
      "hash": "916dbcbb3f70747c44a77c7bcd40155683ae19c65e1c03b4aa3499c5328201f1"
    },
    "kernel_info": {
      "name": "conda-env-py37_default-py"
    },
    "kernelspec": {
      "display_name": "py37_default",
      "language": "python",
      "name": "python3"
    },
    "language_info": {
      "codemirror_mode": {
        "name": "ipython",
        "version": 3
      },
      "file_extension": ".py",
      "mimetype": "text/x-python",
      "name": "python",
      "nbconvert_exporter": "python",
      "pygments_lexer": "ipython3",
      "version": "3.10.2"
    },
    "nteract": {
      "version": "nteract-front-end@1.0.0"
    },
    "orig_nbformat": 4
  },
  "nbformat": 4,
  "nbformat_minor": 2
}
